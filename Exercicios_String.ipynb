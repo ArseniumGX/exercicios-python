{
  "nbformat": 4,
  "nbformat_minor": 0,
  "metadata": {
    "colab": {
      "name": "Exercicios_String.ipynb",
      "provenance": [],
      "include_colab_link": true
    },
    "kernelspec": {
      "name": "python3",
      "display_name": "Python 3"
    },
    "language_info": {
      "name": "python"
    }
  },
  "cells": [
    {
      "cell_type": "markdown",
      "metadata": {
        "id": "view-in-github",
        "colab_type": "text"
      },
      "source": [
        "<a href=\"https://colab.research.google.com/github/ArseniumGX/exercicios-python/blob/main/Exercicios_String.ipynb\" target=\"_parent\"><img src=\"https://colab.research.google.com/assets/colab-badge.svg\" alt=\"Open In Colab\"/></a>"
      ]
    },
    {
      "cell_type": "markdown",
      "metadata": {
        "id": "wbV2YraddQOF"
      },
      "source": [
        "01 - Considere a string A = \"Os limites só existem se você os deixar existir.(goku)\".\n",
        "\n",
        "Que fatia corresponde a (goku)?"
      ]
    },
    {
      "cell_type": "code",
      "metadata": {
        "colab": {
          "base_uri": "https://localhost:8080/"
        },
        "id": "cl1j6x0geEpr",
        "outputId": "1ab09c0e-023b-4022-fcf2-cc66bd814ce9"
      },
      "source": [
        "frase = \"Os limites só existem se você os deixar existir.(goku)\"\n",
        "\n",
        "print(len(frase))\n",
        "print(frase.find(\"goku\"))\n",
        "print(frase[49:53])\n",
        "print(frase[-5:53])"
      ],
      "execution_count": 32,
      "outputs": [
        {
          "output_type": "stream",
          "text": [
            "54\n",
            "49\n",
            "goku\n",
            "goku\n"
          ],
          "name": "stdout"
        }
      ]
    },
    {
      "cell_type": "markdown",
      "metadata": {
        "id": "2hA2Tw6sdR95"
      },
      "source": [
        "02 - Escreva um programa que solicite uma frase ao usuário e escreva a frase toda em maiúscula e sem espaços em branco."
      ]
    },
    {
      "cell_type": "code",
      "metadata": {
        "colab": {
          "base_uri": "https://localhost:8080/"
        },
        "id": "yoo7M6AZecVL",
        "outputId": "9ab541f4-1a41-4ebe-98e1-6f09b315bd10"
      },
      "source": [
        "frase = input(\"Digite uma frase: \")\n",
        "\n",
        "print(frase.upper().replace(\" \", \"\"))"
      ],
      "execution_count": 34,
      "outputs": [
        {
          "output_type": "stream",
          "text": [
            "Digite uma frase: Alguma frase bem longa\n",
            "ALGUMAFRASEBEMLONGA\n",
            "ALGUMA FRASE BEM LONGA\n"
          ],
          "name": "stdout"
        }
      ]
    },
    {
      "cell_type": "markdown",
      "metadata": {
        "id": "EntkYdeSdT_j"
      },
      "source": [
        "03 - Elabore um programa que recebe o seu nome, endereço e hobby e mostra cada uma das informações da seguinte forma:\n",
        "- Nome -> Letra maiúscula\n",
        "- Endereço -> Letra minúscula\n",
        "- Hobby -> Primeira letra maiúscula\n",
        "\n",
        "**Exemplo Entrada:**\n",
        "```\n",
        "Nome: bruno fabri\n",
        "Endereço: Rua ABC\n",
        "Hobby: jogar cs\n",
        "```\n",
        "\n",
        "**Exemplo Saída:**\n",
        "```\n",
        "Nome: BRUNO FABRI\n",
        "Endereço: rua abc\n",
        "Hobby: Jogar cs\n",
        "```"
      ]
    },
    {
      "cell_type": "code",
      "metadata": {
        "colab": {
          "base_uri": "https://localhost:8080/"
        },
        "id": "ZTxgcoK0e8zN",
        "outputId": "faa057fa-d744-4fc4-ce36-06e133656646"
      },
      "source": [
        "nome = input(\"Digite seu nome:\")\n",
        "endereco = input(\"Digite seu endereço: \")\n",
        "hobby = input(\"Digite seu hobby: \")\n",
        "\n",
        "print(f'''\n",
        "Nome: {nome.upper()}\n",
        "Endereço: {endereco.lower()}\n",
        "Hobby: {hobby.capitalize()}\n",
        "''')"
      ],
      "execution_count": 36,
      "outputs": [
        {
          "output_type": "stream",
          "text": [
            "Digite seu nome:Fulano de tals\n",
            "Digite seu endereço: Rua das Ruas\n",
            "Digite seu hobby: ficar de boas\n",
            "\n",
            "Nome: FULANO DE TALS\n",
            "Endereço: rua das ruas\n",
            "Hobby: Ficar de boas\n",
            "\n"
          ],
          "name": "stdout"
        }
      ]
    },
    {
      "cell_type": "code",
      "metadata": {
        "colab": {
          "base_uri": "https://localhost:8080/"
        },
        "id": "W5XS1tK1oDBD",
        "outputId": "4ec1f09c-9beb-4cf7-a72d-3568447fc6ec"
      },
      "source": [
        "import this"
      ],
      "execution_count": 35,
      "outputs": [
        {
          "output_type": "stream",
          "text": [
            "The Zen of Python, by Tim Peters\n",
            "\n",
            "Beautiful is better than ugly.\n",
            "Explicit is better than implicit.\n",
            "Simple is better than complex.\n",
            "Complex is better than complicated.\n",
            "Flat is better than nested.\n",
            "Sparse is better than dense.\n",
            "Readability counts.\n",
            "Special cases aren't special enough to break the rules.\n",
            "Although practicality beats purity.\n",
            "Errors should never pass silently.\n",
            "Unless explicitly silenced.\n",
            "In the face of ambiguity, refuse the temptation to guess.\n",
            "There should be one-- and preferably only one --obvious way to do it.\n",
            "Although that way may not be obvious at first unless you're Dutch.\n",
            "Now is better than never.\n",
            "Although never is often better than *right* now.\n",
            "If the implementation is hard to explain, it's a bad idea.\n",
            "If the implementation is easy to explain, it may be a good idea.\n",
            "Namespaces are one honking great idea -- let's do more of those!\n"
          ],
          "name": "stdout"
        }
      ]
    }
  ]
}