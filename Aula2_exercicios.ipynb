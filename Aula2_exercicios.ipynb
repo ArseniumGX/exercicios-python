{
  "nbformat": 4,
  "nbformat_minor": 0,
  "metadata": {
    "colab": {
      "name": "Aula2-exercicios.ipynb",
      "provenance": [],
      "authorship_tag": "ABX9TyN2O4vrJKp5U1EgXE9WVshT",
      "include_colab_link": true
    },
    "kernelspec": {
      "name": "python3",
      "display_name": "Python 3"
    },
    "language_info": {
      "name": "python"
    }
  },
  "cells": [
    {
      "cell_type": "markdown",
      "metadata": {
        "id": "view-in-github",
        "colab_type": "text"
      },
      "source": [
        "<a href=\"https://colab.research.google.com/github/ArseniumGX/exercicios-python/blob/main/Aula2_exercicios.ipynb\" target=\"_parent\"><img src=\"https://colab.research.google.com/assets/colab-badge.svg\" alt=\"Open In Colab\"/></a>"
      ]
    },
    {
      "cell_type": "code",
      "metadata": {
        "colab": {
          "base_uri": "https://localhost:8080/"
        },
        "id": "4k0f1EjY7Saq",
        "outputId": "a87b1471-7446-4622-d866-83d05042370e"
      },
      "source": [
        "frase = \"O primeiro programa a gente nunca esquece!\"\n",
        "\n",
        "print(frase)"
      ],
      "execution_count": null,
      "outputs": [
        {
          "output_type": "stream",
          "text": [
            "O primeiro programa a gente nunca esquece!\n",
            "5\n",
            "4\n",
            "5\n"
          ],
          "name": "stdout"
        }
      ]
    },
    {
      "cell_type": "code",
      "metadata": {
        "colab": {
          "base_uri": "https://localhost:8080/"
        },
        "id": "l5Xc1-KL8MFE",
        "outputId": "9884a6f5-87b2-4a71-ef97-fa40ecc6e318"
      },
      "source": [
        "nome = input(\"Seu nome completo: \")\n",
        "cep = input(\"Seu CEP: \")\n",
        "endereco = input(\"Seu endereço: \")\n",
        "telefone = input(\"Seu telefone: \")\n",
        "\n",
        "print(f'\\nNome Completo: {nome}')\n",
        "print(f'Endereço: {endereco}')\n",
        "print(f'CEP: {cep} - Telefone: {telefone}')\n"
      ],
      "execution_count": null,
      "outputs": [
        {
          "output_type": "stream",
          "text": [
            "Seu nome completo: Jose P Macedo\n",
            "Seu CEP: 69308020\n",
            "Seu endereço: Antonio Cabral, 792\n",
            "Seu telefone: 95 9 99121-6129\n",
            "\n",
            "Nome Completo: Jose P Macedo\n",
            "Endereço: Antonio Cabral, 792\n",
            "CEP: 69308020 - Telefone: 95 9 99121-6129\n"
          ],
          "name": "stdout"
        }
      ]
    },
    {
      "cell_type": "code",
      "metadata": {
        "colab": {
          "base_uri": "https://localhost:8080/"
        },
        "id": "Wp3eZ74z9Py2",
        "outputId": "2f1d9a41-60bc-47a7-bc3a-b2308431d791"
      },
      "source": [
        "print(\"Nightwish - Deep Silent Complete\\n\")\n",
        "letra = f'''\n",
        "In your creation heaven did decree\n",
        "That in your arms sweet death should dwell\n",
        "Deep Silent Complete\\nBlack velvet sea\n",
        "\n",
        "The sirens are calling for me\n",
        "Saved my soul thinking \"This song\\'s a lie\"\n",
        "Sand on the shore is so dry\n",
        "Deep Silent Complete\n",
        "\n",
        "Black velvet sea\n",
        "Brave day sinking in endless night\n",
        "The age will say…'''\n",
        "\n",
        "print(letra)"
      ],
      "execution_count": null,
      "outputs": [
        {
          "output_type": "stream",
          "text": [
            "Nightwish - Deep Silent Complete\n",
            "\n",
            "In your creation heaven did decree\n",
            "That in your arms sweet death should dwell\n",
            "Deep Silent Complete\n",
            "Black velvet sea\n",
            "\n",
            "The sirens are calling for me\n",
            "Saved my soul thinking \"This song's a lie\"\n",
            "Sand on the shore is so dry\n",
            "Deep Silent Complete\n",
            "\n",
            "Black velvet sea\n",
            "Brave day sinking in endless night\n",
            "The age will say…\n"
          ],
          "name": "stdout"
        }
      ]
    },
    {
      "cell_type": "code",
      "metadata": {
        "colab": {
          "base_uri": "https://localhost:8080/"
        },
        "id": "Umzls8bU_Jn0",
        "outputId": "6ad57f18-42ac-4694-a417-0ac423aeda02"
      },
      "source": [
        "print(\"+============+=======+\")\n",
        "print(\"|  ALUNO(A)  |  NOTA |\")\n",
        "print(\"+============+=======+\")\n",
        "print(\"|  ALINE     |  9.0  |\")\n",
        "print(\"|  MÁRIO     |  DEZ  |\")\n",
        "print(\"|  SÉRGIO    |  4.5  |\")\n",
        "print(\"|  SHIRLEY   |  7.0  |\")\n",
        "print(\"+============+=======+\")"
      ],
      "execution_count": null,
      "outputs": [
        {
          "output_type": "stream",
          "text": [
            "+============+=======+\n",
            "|  ALUNO(A)  |  NOTA |\n",
            "+============+=======+\n",
            "|  ALINE     |  9.0  |\n",
            "|  MÁRIO     |  DEZ  |\n",
            "|  SÉRGIO    |  4.5  |\n",
            "|  SHIRLEY   |  7.0  |\n",
            "+============+=======+\n"
          ],
          "name": "stdout"
        }
      ]
    },
    {
      "cell_type": "code",
      "metadata": {
        "colab": {
          "base_uri": "https://localhost:8080/"
        },
        "id": "fnYg1NxvAWxG",
        "outputId": "60dc91ae-6fa4-4d90-81c4-20b204bd50c9"
      },
      "source": [
        "print(\"Cadastro de Clientes\")\n",
        "print(\"0 - Fim\")\n",
        "print(\"1 - Incluir\")\n",
        "print(\"2 - Altera\")\n",
        "print(\"3 - Excluir\")\n",
        "print(\"4 - Consulta\")\n",
        "\n",
        "opcao = int(input(\"Ditite uma opção: \"))\n",
        "\n",
        "print(f'\\nVocê escolheu a opção \\'{opcao}\\'')"
      ],
      "execution_count": null,
      "outputs": [
        {
          "output_type": "stream",
          "text": [
            "Cadastro de Clientes\n",
            "0 - Fim\n",
            "1 - Incluir\n",
            "2 - Altera\n",
            "3 - Excluir\n",
            "4 - Consulta\n",
            "Ditite uma opção: 6\n",
            "\n",
            "Você escolheu a opção '6'\n"
          ],
          "name": "stdout"
        }
      ]
    },
    {
      "cell_type": "code",
      "metadata": {
        "colab": {
          "base_uri": "https://localhost:8080/"
        },
        "id": "LVY4QG3hBBGg",
        "outputId": "d3412a73-5084-44d7-d74a-0570fc40abf8"
      },
      "source": [
        "import math\n",
        "\n",
        "vida = int(input(\"Digira a quantidade de vida do monstro (10~50): \"))\n",
        "ataque = int(input(\"Valor do seu ataque (5~10): \"))\n",
        "\n",
        "turnos = vida / ataque\n",
        "\n",
        "print(f'O jogador irá derrotar o monstro em {math.ceil(turnos)} turnos.')\n",
        "#print(f'{turnos:.0f}')\n",
        "#print(round(turnos))"
      ],
      "execution_count": null,
      "outputs": [
        {
          "output_type": "stream",
          "text": [
            "Digira a quantidade de vida do monstro (10~50): 50\n",
            "Valor do seu ataque (5~10): 3\n",
            "O jogador irá derrotar o monstro em 17 turnos.\n",
            "17\n",
            "17\n"
          ],
          "name": "stdout"
        }
      ]
    }
  ]
}