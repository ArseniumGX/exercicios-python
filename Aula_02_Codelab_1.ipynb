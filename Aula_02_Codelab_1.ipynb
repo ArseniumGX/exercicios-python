{
  "nbformat": 4,
  "nbformat_minor": 0,
  "metadata": {
    "colab": {
      "name": "Aula_02_Codelab_1.ipynb",
      "provenance": [],
      "collapsed_sections": [],
      "include_colab_link": true
    },
    "kernelspec": {
      "name": "python3",
      "display_name": "Python 3"
    },
    "language_info": {
      "name": "python"
    }
  },
  "cells": [
    {
      "cell_type": "markdown",
      "metadata": {
        "id": "view-in-github",
        "colab_type": "text"
      },
      "source": [
        "<a href=\"https://colab.research.google.com/github/ArseniumGX/exercicios-python/blob/main/Aula_02_Codelab_1.ipynb\" target=\"_parent\"><img src=\"https://colab.research.google.com/assets/colab-badge.svg\" alt=\"Open In Colab\"/></a>"
      ]
    },
    {
      "cell_type": "markdown",
      "metadata": {
        "id": "n_igYcmdk6U9"
      },
      "source": [
        "# **Exercícios para treinar:**"
      ]
    },
    {
      "cell_type": "markdown",
      "metadata": {
        "id": "rRyZR6ZAlEHU"
      },
      "source": [
        "1. **Frase na tela** - Implemente um programa que escreve na tela a frase \"O primeiro programa a gente nunca esquece!\".\n",
        "\n",
        "2. **Etiqueta** - Elabore um programa que escreve seu nome completo na primeira linha, seu endereço na segunda e o CEP e telefone na terceira.\n",
        "\n",
        "3. **Letra de música** - Faça um programa que mostre na tela uma letra de música que você gosta (proibido letras do Justin Bieber).\n",
        "\n",
        "4. **Tabela de notas** - Você foi contratado ou contratada por uma escola pra fazer o sistema de boletim dos alunos. Como primeiro passo, escreva um programa que produza a seguinte saída:\n",
        "```\n",
        "ALUNO (A)  NOTA\n",
        "=========  ====\n",
        "ALINE      9.0\n",
        "MÁRIO      DEZ\n",
        "SÉRGIO     4.5\n",
        "SHIRLEY    7.0\n",
        "```\n",
        "\n",
        "5. **Menu** - Elabore um programa que mostre o seguinte menu na tela:\n",
        "```\n",
        "Cadastro de Clientes\n",
        "0 - Fim\n",
        "1 - Inclui\n",
        "2 - Altera\n",
        "3 - Exclui\n",
        "4 - Consulta\n",
        "Digite uma opção: \n",
        "```\n",
        "Ao digitar um valor para a opção, o programa exibe qual opção foi escolhida.\n",
        "```\n",
        "Você escolheu a opção '0'.\n",
        "```\n",
        "\n",
        "6. **Calculadora de Dano** - Escreva um programa que receba dois valores digitados pelo usuário:\n",
        "  - Quantidade de vida de um monstro (entre 10 e 50);\n",
        "  - Valor do ataque do jogador por turno (entre 5 e 10);\n",
        "  - Baseado nos valores digitados, exiba a quantidade de turnos que o jogador irá demorar para conseguir derrotar o monstro.\n",
        "  - ```\n",
        "    O jogador irá derrotar o monstro em 8 turnos.\n",
        "    ```"
      ]
    },
    {
      "cell_type": "markdown",
      "metadata": {
        "id": "HqgnPaCGqMPB"
      },
      "source": [
        "# Exercícios"
      ]
    },
    {
      "cell_type": "markdown",
      "metadata": {
        "id": "U-ltrv0jqPBq"
      },
      "source": [
        "## #01 - E os 10% do garçom?**\n",
        "\n",
        "- Defina uma variável para o valor de uma refeição que custou R$ 42,54;\n",
        "\n",
        "- Defina uma variável para o valor da taxa de serviço que é de 10%;\n",
        "\n",
        "- Defina uma variável que calcula o valor total da conta e exiba-o no console com essa formatação: R$ XXXX.XX."
      ]
    },
    {
      "cell_type": "code",
      "metadata": {
        "id": "jbcSv4NFkB1C",
        "colab": {
          "base_uri": "https://localhost:8080/"
        },
        "outputId": "5c1bd93f-30e4-4ffb-ba0c-77a6b2d1541d"
      },
      "source": [
        "valor = 42.54\n",
        "taxa = 10\n",
        "\n",
        "total = valor + ((valor*taxa)/100)\n",
        "\n",
        "print(f'O valor total é: R$ {total:.2f}')"
      ],
      "execution_count": null,
      "outputs": [
        {
          "output_type": "stream",
          "text": [
            "O valor total é: R$ 46.79\n"
          ],
          "name": "stdout"
        }
      ]
    },
    {
      "cell_type": "markdown",
      "metadata": {
        "id": "JR3-KgsTqR41"
      },
      "source": [
        "## #02 - Qual o valor do troco?\n",
        "\n",
        "*   Defina uma variável para o valor de uma compra que custou R$100,98;\n",
        "\n",
        "*   Defina uma variável para o valor que o cliente pagou R$150,00;\n",
        "\n",
        "*   Defina uma variável que calcula o valor do troco e exiba-o no console com o valor final arredondado."
      ]
    },
    {
      "cell_type": "code",
      "metadata": {
        "id": "hBf3kE_pksAI",
        "colab": {
          "base_uri": "https://localhost:8080/"
        },
        "outputId": "380fe855-c94a-48d3-ef96-e5ba42d8991b"
      },
      "source": [
        "valor_compra = 100.98\n",
        "valor_pago = 150.00\n",
        "troco = valor_pago - valor_compra\n",
        "\n",
        "print(f'O seu troco é: R$ {troco:.2f}')"
      ],
      "execution_count": null,
      "outputs": [
        {
          "output_type": "stream",
          "text": [
            "O seu troco é: R$ 49.019999999999996\n"
          ],
          "name": "stdout"
        }
      ]
    },
    {
      "cell_type": "markdown",
      "metadata": {
        "id": "2Uu84Uqtkunt"
      },
      "source": [
        "## #03 - Você está na flor da idade?\n",
        "\n",
        "*  Defina uma variável para o valor do ano do nascimento;\n",
        "*  Defina uma variável para o valor do ano atual;\n",
        "*  Defina uma variável que calcula o valor final da idade da pessoa;\n",
        "*  Exiba uma mensagem final dizendo a idade da pessoa e a mensagem \"Você está na flor da idade\"."
      ]
    },
    {
      "cell_type": "code",
      "metadata": {
        "id": "kyXxJV3nk14Z",
        "colab": {
          "base_uri": "https://localhost:8080/"
        },
        "outputId": "093dd3ff-c7be-4e8b-b806-90b0b8228046"
      },
      "source": [
        "ano_nasc = int(input(\"Digite o ano do seu nascimento: \"))\n",
        "ano_atual = int(input(\"Digite o ano atual: \"))\n",
        "idade = ano_atual - ano_nasc\n",
        "\n",
        "print(f'Você tem {idade}\\nVocẽ está na flor da idade.')"
      ],
      "execution_count": null,
      "outputs": [
        {
          "output_type": "stream",
          "text": [
            "Digite o ano do seu nascimento: 1989\n",
            "Digite o ano atual: 2021\n",
            "Você tem 32\n",
            "Vocẽ está na flor da idade.\n"
          ],
          "name": "stdout"
        }
      ]
    },
    {
      "cell_type": "markdown",
      "metadata": {
        "id": "w1T7s2q0p-pt"
      },
      "source": [
        "# Mini projetos"
      ]
    },
    {
      "cell_type": "markdown",
      "metadata": {
        "id": "meUw7PTwqC-Y"
      },
      "source": [
        "## #01 - Conversor de moedas\n",
        "\n",
        "Crie um programa que solicite um um valor em real ao usuário e converta esse valor, para:\n",
        "\n",
        "- DOLAR,\n",
        "- EURO,\n",
        "- LIBRA ESTERLINA,\n",
        "- DÓLAR CANADENSE,\n",
        "- PESO ARGENTINO,\n",
        "- PESO CHILENO.\n",
        "\n",
        "Para esse exercício você precisará realizar uma pesquisa para saber a cotação de cada moeda em real. Mostrar o resultado no formato $ XXXX.XX"
      ]
    },
    {
      "cell_type": "code",
      "metadata": {
        "id": "q481snSClrXe",
        "colab": {
          "base_uri": "https://localhost:8080/"
        },
        "outputId": "49c2e802-795d-4961-f7c2-ada7cb825984"
      },
      "source": [
        "moeda_real = int(input(\"Digite o valor em reais para converter: \"))\n",
        "\n",
        "dolar = moeda_real / 5.02\n",
        "euro = moeda_real / 6.13\n",
        "libra = moeda_real / 7.13\n",
        "dolar_canada = moeda_real / 4.16\n",
        "peso_argentino = moeda_real / 0.053\n",
        "peso_chileno = moeda_real / 0.007\n",
        "\n",
        "print(f'\\n\\nR$ {moeda_real:.2f} convertido nas seguintes moedas\\n\\n')\n",
        "print(f'Em dolar: US$ {dolar:.2f}')\n",
        "print(f'Em euro: € {euro:.2f}')\n",
        "print(f'Em libras esterlinas: £ {libra:.2f}')\n",
        "print(f'Em dolar canadense: C$ {dolar_canada:.2f}')\n",
        "print(f'Em peso argentino: $ {peso_argentino:.2f}')\n",
        "print(f'Em peso chileno: CLP $ {peso_chileno:.2f}')"
      ],
      "execution_count": 1,
      "outputs": [
        {
          "output_type": "stream",
          "text": [
            "Digite o valor em reais para converter: 1000\n",
            "\n",
            "\n",
            "R$ 1000.00 convertido nas seguintes moedas\n",
            "\n",
            "\n",
            "Em dolar: US$ 199.20\n",
            "Em euro: € 163.13\n",
            "Em libras esterlinas: £ 140.25\n",
            "Em dolar canadense: C$ 240.38\n",
            "Em peso argentino: $ 18867.92\n",
            "Em peso chileno: CLP $ 142857.14\n"
          ],
          "name": "stdout"
        }
      ]
    },
    {
      "cell_type": "markdown",
      "metadata": {
        "id": "KK9PIcJ4qIF9"
      },
      "source": [
        "## #02 - Calculadora de aumento de aluguel\n",
        "\n",
        "\n",
        "Vamos construir um programa que irá calcular o aumento anual do seu aluguel em duas partes:\n",
        "\n",
        "### Parte 1\n",
        "A sua calculadora vai receber o `valor do aluguel` e calcular o aumento baseado no `IGPM de 31%`. A calculadora deve apresentar o aluguel reajustado no formato `R$ XXXX.XX`\n",
        "\n",
        "**Exemplo:**\n",
        "```\n",
        "Valor do aluguel = 1000\n",
        "Valor do aluguel reajustado = R$ 1310,00"
      ]
    },
    {
      "cell_type": "code",
      "metadata": {
        "id": "VdjHa9Csl0Lg",
        "colab": {
          "base_uri": "https://localhost:8080/"
        },
        "outputId": "2db1ac75-9dbe-4ed5-a58e-30f98247e8c3"
      },
      "source": [
        "valor_aluguel = int(input(\"Informe o valor do aluguel: \"))\n",
        "\n",
        "novo_aluguel = valor_aluguel + (valor_aluguel*31)/100\n",
        "\n",
        "print(f'\\n\\nO valor do aluguel reajustado é: R$ {novo_aluguel:.2f}')"
      ],
      "execution_count": null,
      "outputs": [
        {
          "output_type": "stream",
          "text": [
            "Informe o valor do aluguel: 1000\n",
            "O valor do aluguel reajustado é: R$ 1310.00\n"
          ],
          "name": "stdout"
        }
      ]
    },
    {
      "cell_type": "markdown",
      "metadata": {
        "id": "lKTwnuNMl8rP"
      },
      "source": [
        "### Parte 2\n",
        "Agora, altere sua calculadora para receber além do `valor do aluguel`, o percentual do reajuste no formato `XX%`.  \n",
        "\n",
        "**Dica:** Descubra uma forma de transformar o percentual recebido em um número para efetuar o cálculo.\n",
        "\n",
        "**Exemplo:**\n",
        "```\n",
        "Valor do aluguel = 1000\n",
        "Percentual do reajuste = 31%\n",
        "Valor do aluguel reajustado = R% 1310,00\n",
        "```"
      ]
    },
    {
      "cell_type": "code",
      "metadata": {
        "id": "aw2Zk_9KmA85",
        "colab": {
          "base_uri": "https://localhost:8080/"
        },
        "outputId": "19f83f94-5935-4851-afcf-9cb9d5a6e4ad"
      },
      "source": [
        "valor_aluguel = int(input(\"Informe o valor do aluguel: \"))\n",
        "taxa_reajuste = int(input(\"Informe o percentual de reajuste: \"))\n",
        "\n",
        "novo_aluguel = valor_aluguel + (valor_aluguel*taxa_reajuste)/100\n",
        "\n",
        "print(f'\\n\\nO valor do aluguel reajustado é: R$ {novo_aluguel:.2f}')"
      ],
      "execution_count": null,
      "outputs": [
        {
          "output_type": "stream",
          "text": [
            "Informe o valor do aluguel: 1000\n",
            "Informe o percentual de reajuste31\n",
            "\n",
            "\n",
            "O valor do aluguel reajustado é: R$ 1310.00\n"
          ],
          "name": "stdout"
        }
      ]
    }
  ]
}