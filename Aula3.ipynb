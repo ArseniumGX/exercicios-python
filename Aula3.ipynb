{
  "nbformat": 4,
  "nbformat_minor": 0,
  "metadata": {
    "colab": {
      "name": "Aula3.ipynb",
      "provenance": [],
      "collapsed_sections": [],
      "authorship_tag": "ABX9TyMaEVJ4Pch3Tz4RDK6fSKC9",
      "include_colab_link": true
    },
    "kernelspec": {
      "name": "python3",
      "display_name": "Python 3"
    }
  },
  "cells": [
    {
      "cell_type": "markdown",
      "metadata": {
        "id": "view-in-github",
        "colab_type": "text"
      },
      "source": [
        "<a href=\"https://colab.research.google.com/github/ArseniumGX/exercicios-python/blob/main/Aula3.ipynb\" target=\"_parent\"><img src=\"https://colab.research.google.com/assets/colab-badge.svg\" alt=\"Open In Colab\"/></a>"
      ]
    },
    {
      "cell_type": "markdown",
      "metadata": {
        "id": "XJM2FwW4PnlQ"
      },
      "source": [
        "Manipulação de Strings"
      ]
    },
    {
      "cell_type": "code",
      "metadata": {
        "id": "r3zRXOHNPriN"
      },
      "source": [
        "# Concatenação de Strings\n",
        "nome = \"Jose \"\n",
        "sobrenome = \"Macedo\"\n",
        "concat = nome + sobrenome\n",
        "nomecompleto = \"José Pereira Macedo\"\n",
        "\n",
        "#print(concat)\n",
        "\n",
        "# len(str) não é somente específico do str, por isso náo é usado str.len()\n",
        "\n",
        "# str.capitalize(<param>) retorna em maiusculo o primeiro caractere da string\n",
        "\n",
        "# str.count(<param>) retorna a quantidade de vezes que um determinado caractere aparece\n",
        "\n",
        "# str.startswith(<param>) retorna true ou false se a string começa com uma sequência de caracter\n",
        "\n",
        "# str.endswith(<param>) retorna true ou false se a string termina com uma sequência de caracter\n",
        "\n",
        "# str.isalnum() returna true ou false se a string é um alfa numérico\n",
        "\n",
        "# str.isalpha() retorna true ou false se a string é um alfa\n",
        "\n",
        "# str.islower() retorna true ou false se a string todos os caractere da string é minuscula\n",
        "\n",
        "# str.isupper() mesmo caso do islower() porem maiuscula\n",
        "\n",
        "# str.upper() transforma toda string em maiusculo\n",
        "\n",
        "# str.lower() tranforma toda string em minusculo\n",
        "\n",
        "# str.swapcase() inverte os caractere da string maiuscula em minuscula e vice versa\n",
        "\n",
        "# str.title() transforma o inicio de cada inicio de letra de uma palavra em maiusculo\n",
        "\n",
        "# str.split() retorna uma lista com todas as pavras de uma string\n",
        "\n",
        "# str.replace(<target>, <new>) troca uma string para alguma coisa\n",
        "\n",
        "# str.find(<param>) retorna a posição em que a letra ou palavra esta\n",
        "\n",
        "# str.ljust(<param>) adiciona espaços vazios a esquerda da string ate que ocupe x posições\n",
        "\n",
        "# str.rjust(<param>) adiciona espaços vazios a direita da string ate que ocupe x posições\n",
        "\n",
        "# str.strip(<optional>) remove os espaços excessivos a esquerda e a direita de uma string\n",
        "\n",
        "# fatiamento de string str[initialPosition:endPosition:interval]\n"
      ],
      "execution_count": 1,
      "outputs": []
    }
  ]
}