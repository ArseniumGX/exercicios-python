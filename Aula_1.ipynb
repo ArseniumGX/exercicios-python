{
  "nbformat": 4,
  "nbformat_minor": 0,
  "metadata": {
    "colab": {
      "name": "Aula-1.ipynb",
      "provenance": [],
      "authorship_tag": "ABX9TyN1qmxU/0dAx+aqC9qBime1",
      "include_colab_link": true
    },
    "kernelspec": {
      "name": "python3",
      "display_name": "Python 3"
    },
    "language_info": {
      "name": "python"
    }
  },
  "cells": [
    {
      "cell_type": "markdown",
      "metadata": {
        "id": "view-in-github",
        "colab_type": "text"
      },
      "source": [
        "<a href=\"https://colab.research.google.com/github/ArseniumGX/exercicios-python/blob/main/Aula_1.ipynb\" target=\"_parent\"><img src=\"https://colab.research.google.com/assets/colab-badge.svg\" alt=\"Open In Colab\"/></a>"
      ]
    },
    {
      "cell_type": "code",
      "metadata": {
        "colab": {
          "base_uri": "https://localhost:8080/"
        },
        "id": "S9XJe_uqFQYB",
        "outputId": "5bbb558f-918d-4d7c-bd33-df59d0b6acdd"
      },
      "source": [
        "print(\"oláh!\") # print basico em python"
      ],
      "execution_count": null,
      "outputs": [
        {
          "output_type": "stream",
          "text": [
            "oláh! 3\n"
          ],
          "name": "stdout"
        }
      ]
    },
    {
      "cell_type": "code",
      "metadata": {
        "colab": {
          "base_uri": "https://localhost:8080/"
        },
        "id": "trJK1GEjG_5o",
        "outputId": "4851b73d-f66d-45da-d64f-92ed3a3551d5"
      },
      "source": [
        "idade = 31\n",
        "print(\"minha idade é\", idade)"
      ],
      "execution_count": null,
      "outputs": [
        {
          "output_type": "stream",
          "text": [
            "minha idade é 31\n"
          ],
          "name": "stdout"
        }
      ]
    },
    {
      "cell_type": "code",
      "metadata": {
        "colab": {
          "base_uri": "https://localhost:8080/"
        },
        "id": "ac9XUWsOJSiD",
        "outputId": "ab666297-8371-451d-a03c-554f64f48c7c"
      },
      "source": [
        "# str = String\n",
        "# int = inteiros\n",
        "# floar = valores em ponto frutuante\n",
        "# bool = true | false\n",
        "\n",
        "nome = input(\"Digite seu nome: \")\n",
        "idade = int(input(\"Digite sua idade: \"))\n",
        "print(type(idade))\n",
        "print(f'Seu nome é {nome} e sua idade é {idade}')"
      ],
      "execution_count": null,
      "outputs": [
        {
          "output_type": "stream",
          "text": [
            "Digite seu nome: jose\n",
            "Digite sua idade: 31\n",
            "<class 'int'>\n",
            "Seu nome é jose {}e sua idade é 31\n"
          ],
          "name": "stdout"
        }
      ]
    },
    {
      "cell_type": "code",
      "metadata": {
        "colab": {
          "base_uri": "https://localhost:8080/"
        },
        "id": "2ydVw0oYNiI3",
        "outputId": "6ab4680f-8983-4480-e977-61d8e988f277"
      },
      "source": [
        "# Exercício 1\n",
        "print(\"Olá mundo!\\nEsse é meu novo programa\")"
      ],
      "execution_count": null,
      "outputs": [
        {
          "output_type": "stream",
          "text": [
            "Olá mundo!\n",
            "Esse é meu novo programa\n"
          ],
          "name": "stdout"
        }
      ]
    },
    {
      "cell_type": "code",
      "metadata": {
        "colab": {
          "base_uri": "https://localhost:8080/"
        },
        "id": "_3bmjHdVNvRo",
        "outputId": "9212a12f-2787-4152-fb00-2e696e39bb2d"
      },
      "source": [
        "# Exercício 2\n",
        "nome = input(\"Digite seu nome: \")\n",
        "endereco = input(\"Digite seu endereço: \")\n",
        "cep = input(\"Digite seu cep\")\n",
        "print(f'Nome: {nome}\\nEncereço: {endereco}\\nCEP: {cep}')"
      ],
      "execution_count": null,
      "outputs": [
        {
          "output_type": "stream",
          "text": [
            "Digite seu nome: José\n",
            "Digite seu endereço: Rua das tanta\n",
            "Digite seu cep0987484\n",
            "Nome: José\n",
            "Encereço: Rua das tanta\n",
            "CEP: 0987484\n"
          ],
          "name": "stdout"
        }
      ]
    },
    {
      "cell_type": "code",
      "metadata": {
        "colab": {
          "base_uri": "https://localhost:8080/"
        },
        "id": "LDFOtk1fOTvf",
        "outputId": "56c8c2a4-9340-4d47-d1d3-566209fc253e"
      },
      "source": [
        "# Exercício 3\n",
        "nome = input(\"Digite seu nome: \")\n",
        "print(f'Olá {nome}!\\nSeja bem vindo ao fantástico mundo do Python.')"
      ],
      "execution_count": null,
      "outputs": [
        {
          "output_type": "stream",
          "text": [
            "Digite seu nome: José\n",
            "Olá José!\n",
            "Seja bem vindo ao fantástico mundo do Python.\n"
          ],
          "name": "stdout"
        }
      ]
    },
    {
      "cell_type": "code",
      "metadata": {
        "colab": {
          "base_uri": "https://localhost:8080/"
        },
        "id": "tYFkLBpSOzVW",
        "outputId": "95b57de8-ca5e-42f5-eb19-05d85f467e45"
      },
      "source": [
        "# Bonus Teste\n",
        "\n",
        "test = 1\n",
        "\n",
        "if test == True:\n",
        "    print(\"Sim!\")\n",
        "elif test == False:\n",
        "    print(\"Não!\")\n",
        "else:\n",
        "    print(test)\n",
        "\n",
        "print(type(test))"
      ],
      "execution_count": null,
      "outputs": [
        {
          "output_type": "stream",
          "text": [
            "Sim!\n",
            "<class 'int'>\n"
          ],
          "name": "stdout"
        }
      ]
    },
    {
      "cell_type": "code",
      "metadata": {
        "id": "caFICyLRRx1o"
      },
      "source": [
        "# "
      ],
      "execution_count": null,
      "outputs": []
    }
  ]
}